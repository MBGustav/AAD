{
 "cells": [
  {
   "cell_type": "code",
   "execution_count": 22,
   "metadata": {},
   "outputs": [],
   "source": [
    "#Bibs\n",
    "from mpi4py import MPI\n",
    "import numpy as np\n",
    "\n",
    "N = 1000000\n"
   ]
  },
  {
   "cell_type": "code",
   "execution_count": 33,
   "metadata": {},
   "outputs": [
    {
     "name": "stdout",
     "output_type": "stream",
     "text": [
      "Overwriting serial.py\n"
     ]
    }
   ],
   "source": [
    "%%writefile serial.py\n",
    "\n",
    "import numpy as np\n",
    "N = 1000000\n",
    "\n",
    "\n",
    "def MonteCarlo(x, y):\n",
    "    n = x.shape[0]\n",
    "    total_acerto = 0\n",
    "    for i in range(n):\n",
    "\n",
    "        if x[i]**2 + y[i]**2 <= 1.0 :\n",
    "            total_acerto +=1\n",
    "\n",
    "    return float(total_acerto / n)\n",
    "\n",
    "x = np.random.rand((N))\n",
    "y = np.random.rand((N))\n",
    "\n",
    "print(\"Resultado de pi: {:.10f}\".format(4.0*MonteCarlo(x,y)))"
   ]
  },
  {
   "cell_type": "code",
   "execution_count": 34,
   "metadata": {},
   "outputs": [
    {
     "name": "stdout",
     "output_type": "stream",
     "text": [
      "Resultado de pi: 3.1397080000\n",
      "\n",
      "real\t0m0,393s\n",
      "user\t0m0,507s\n",
      "sys\t0m0,432s\n"
     ]
    }
   ],
   "source": [
    "!time python3 serial.py"
   ]
  },
  {
   "cell_type": "code",
   "execution_count": 46,
   "metadata": {},
   "outputs": [
    {
     "name": "stdout",
     "output_type": "stream",
     "text": [
      "Overwriting reduce.py\n"
     ]
    }
   ],
   "source": [
    "%%writefile reduce.py\n",
    "\n",
    "\n",
    "import numpy as np\n",
    "from mpi4py import MPI\n",
    "\n",
    "\n",
    "def MonteCarlo(x, y):\n",
    "    n = x.shape[0]\n",
    "    total_acerto = 0\n",
    "    for i in range(n):\n",
    "\n",
    "        if x[i]**2 + y[i]**2 <= 1.0 :\n",
    "            total_acerto +=1\n",
    "\n",
    "    return float(total_acerto / n)\n",
    "\n",
    "\n",
    "comm = MPI.COMM_WORLD\n",
    "\n",
    "size = comm.Get_size()\n",
    "rank = comm.Get_rank()\n",
    "\n",
    "N = 1000000\n",
    "'''Inicializa Vetor com N posicoes'''\n",
    "x = np.random.rand((N//size))\n",
    "y = np.random.rand((N//size))\n",
    "\n",
    "half_pi = MonteCarlo(x,y)\n",
    "\n",
    "soma = comm.reduce(half_pi, op=MPI.SUM, root=0)\n",
    "\n",
    "if rank == 0:\n",
    "    print(\"total de ranks = {}\".format(size))\n",
    "    print(\"Rank = {}\".format(rank))\n",
    "    print(\"Valor obtido de Pi = {:.8f}\".format(soma))\n",
    "\n",
    "\n"
   ]
  },
  {
   "cell_type": "code",
   "execution_count": 45,
   "metadata": {},
   "outputs": [
    {
     "name": "stdout",
     "output_type": "stream",
     "text": [
      "\n",
      "real\t0m0,003s\n",
      "user\t0m0,003s\n",
      "sys\t0m0,000s\n"
     ]
    }
   ],
   "source": [
    "!time mpirun -n 4 python3 reduce.py"
   ]
  }
 ],
 "metadata": {
  "kernelspec": {
   "display_name": "Python 3",
   "language": "python",
   "name": "python3"
  },
  "language_info": {
   "codemirror_mode": {
    "name": "ipython",
    "version": 3
   },
   "file_extension": ".py",
   "mimetype": "text/x-python",
   "name": "python",
   "nbconvert_exporter": "python",
   "pygments_lexer": "ipython3",
   "version": "3.10.6"
  },
  "orig_nbformat": 4
 },
 "nbformat": 4,
 "nbformat_minor": 2
}
