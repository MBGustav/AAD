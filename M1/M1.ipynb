{
 "cells": [
  {
   "attachments": {},
   "cell_type": "markdown",
   "metadata": {},
   "source": [
    "# Introdução\n",
    "\n",
    "## Desempenho de Arquiteturas\n",
    "\n",
    "- Quando dizemos sobre arquitetura com “X” bits, temos que levar em consideração que nos indicará o total de instruções possíveis nesta mesma arquitetura.\n",
    "\n",
    "Inicialmente, tivemos a concepção inicial da arquitetura em 4 bits ⇒ Isso nos dizia que o total de instruções são:\n",
    "\n",
    "$$\n",
    "2^4 = 32 \\text{ Operações}\n",
    "$$\n"
   ]
  },
  {
   "attachments": {},
   "cell_type": "markdown",
   "metadata": {},
   "source": [
    "\n",
    "## Primeiros processadores\n",
    "\n",
    "4004\n",
    "\n",
    "8008 / 8080 / 8084 ⇒ Processadores do tipo 8 e 16bits \n",
    "\n",
    "Curiosidade: 8006 - 400Mhzx\n"
   ]
  },
  {
   "attachments": {},
   "cell_type": "markdown",
   "metadata": {},
   "source": [
    "## Inovações Arquiteturais para Melhora de Desempenho\n",
    "\n",
    "Desempenho: 10000x de 1980 para 2000.\n",
    "\n",
    "100x: devido à tecnologia\n",
    "\n",
    "2000: GFLOPS nos desktops, TFLOPS nos supercomputadores \n",
    "\n",
    "<aside>\n",
    "⚠️ Verificar diferença entre hyoerthreading e multithreading\n",
    "\n",
    "</aside>\n",
    "\n"
   ]
  },
  {
   "attachments": {},
   "cell_type": "markdown",
   "metadata": {},
   "source": [
    "### Tendencias Arquiteturais e Fator de Melhora(*comparar)\n",
    "\n",
    "- Multithreading (*super,hyper)  : 2 - 5x\n",
    "- Especulação e Previsão de Valor: 2 - 3x\n",
    "- Aceleração de Hardware: 2-10x\n",
    "- Processamento Vetorial e Matricial: 2-10x\n",
    "- Computação Paralela: 2-1000x\n"
   ]
  },
  {
   "attachments": {},
   "cell_type": "markdown",
   "metadata": {},
   "source": [
    "\n",
    "## Consumo Energético - Como melhorar ?\n",
    "\n",
    "Controle de Clock - desligar sinais de clock em partes nao utilizadas\n",
    "\n",
    "Projeto Assíncrono - eliminação de clock \n",
    "\n",
    "Redução de Tensão \n"
   ]
  },
  {
   "attachments": {},
   "cell_type": "markdown",
   "metadata": {},
   "source": [
    "\n",
    "### Outras Possibilidades melhoria\n",
    "\n",
    "Mudança no nivel arquitetural, nos esquemas de programação e compilação \n",
    "\n",
    "Transação nos Barramentos \n",
    "\n",
    "Processamento Paralelo - baixa tensão\n",
    "\n",
    "Multiprocessadores  - Heterogeneos"
   ]
  },
  {
   "attachments": {},
   "cell_type": "markdown",
   "metadata": {},
   "source": []
  }
 ],
 "metadata": {
  "language_info": {
   "name": "python"
  },
  "orig_nbformat": 4
 },
 "nbformat": 4,
 "nbformat_minor": 2
}
