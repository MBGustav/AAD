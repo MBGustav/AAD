{
 "cells": [
  {
   "attachments": {},
   "cell_type": "markdown",
   "metadata": {},
   "source": [
    "# Introdução\n",
    "\n",
    "## Desempenho de Arquiteturas\n",
    "\n",
    "- Quando dizemos sobre arquitetura com “X” bits, temos que levar em consideração que nos indicará o total de instruções possíveis nesta mesma arquitetura.\n",
    "\n",
    "Inicialmente, tivemos a concepção inicial da arquitetura em 4 bits ⇒ Isso nos dizia que o total de instruções são:\n",
    "\n",
    "$$\n",
    "2^4 = 32 \\text{ Operações}\n",
    "$$\n"
   ]
  },
  {
   "attachments": {},
   "cell_type": "markdown",
   "metadata": {},
   "source": [
    "\n",
    "## Desempenho de Arquiteturas(No Passado e atuais)\n",
    "- 1º Processador - 4004 $\\pi p$: Neste processador, o processador era baseado em 4-bits. Seu objetivo era para cálculos aritméticos. (0.06 `MIPS - Milhoes de Instruções por Segundo`). \n",
    "- 2ª Processadores 8bits - 8008, 8080, 8084: Na década de 70, eram montados como \"kits\" estes processadores. Eram comumente utilizados como calculadoras e até mesmo como video-games. (o desempenho de ciclo da familia 80xx era 4.7MHz).\n",
    "\n",
    "\n",
    "\n",
    "- Processadores 16bits - 8086/8088/80188: \n",
    "Curiosidade: 8006 - 400MHz\n",
    "\n",
    "### Observação\n",
    "Apesar da evolução dos processadores, ainda temos gargalos com relação a memória. Isso pode ser notado quando comparamos a grandeza de ciclos entre processadores e Memória (_GHz_ e _MHz_). \n",
    "\n",
    "\n",
    "SRAM - Custo de fabricação maior, fabricado com flip-flop. Sua velocidade se torna muito maior, justamente por conta da velocidade de acesso. Além disso, sua estrutura espacial consome maior espaço, impedindo grandes quantidades comparada a estrutura DRAM.\n",
    "\n",
    "\n",
    "DRAM - Memória de Massa, seu custo de fabricação é muito mais barato. Sua concepção de uso é feita por meio de capacitores e transistores. Entretanto, sua velocidade é muito menor que \n"
   ]
  },
  {
   "attachments": {},
   "cell_type": "markdown",
   "metadata": {},
   "source": [
    "## Inovações Arquiteturais para Melhora de Desempenho\n",
    "\n",
    "Desempenho: 10000x de 1980 para 2000.\n",
    "\n",
    "100x: devido à tecnologia\n",
    "\n",
    "2000: GFLOPS nos desktops, TFLOPS nos supercomputadores \n",
    "\n",
    "\n",
    "\n",
    "\n",
    "\n",
    "\n"
   ]
  },
  {
   "attachments": {},
   "cell_type": "markdown",
   "metadata": {},
   "source": [
    "### Tendencias Arquiteturais e Fator de Melhora(*comparar)\n",
    "\n",
    "- Multithreading (*super,hyper)  : 2 - 5x\n",
    "- Especulação e Previsão de Valor: 2 - 3x\n",
    "- Aceleração de Hardware: 2-10x\n",
    "- Processamento Vetorial e Matricial: 2-10x\n",
    "- Computação Paralela: 2-1000x\n"
   ]
  },
  {
   "attachments": {},
   "cell_type": "markdown",
   "metadata": {},
   "source": [
    "\n",
    "## Consumo Energético - Como melhorar ?\n",
    "\n",
    "Ao longo do tempo, a performance dos processadores (MIPS, GIPS, TIPS) cresceram proporcionalmente ao consumo de energia por área. Isso demonstra uma tendencia de crescimento do consumo energético. Com isso, estratégias tem sido usadas para contornar o efeito do consumo energético, dentre elas: \n",
    "\n",
    "- Controle de Clock: desligar sinais de clock em partes nao utilizadas\n",
    "- Desligamento parcial: desativação em partes do chip objetivo, que reduz a corrente de consumo.\n",
    "- Projeto Assíncrono: eliminação de clock no projeto. Entretanto, seu desenvovlvimento acaba sendo muito custoso. \n",
    "- Redução de Tensão: Nao muito utilizada por conta da redução de processamento de dados.\n"
   ]
  },
  {
   "attachments": {},
   "cell_type": "markdown",
   "metadata": {},
   "source": [
    "## Extensões da ISA para Desempenho\n",
    "\n",
    "Instruções que podem realizar mais trabalho por ciclo: \n",
    "- `Shift_add`: Multiplicação e Adição simultânea == x <- c+a*b\n",
    "<!-- ADICIONAR MAIS EXEMPLOES PARA EXTENSOES ISA -->\n"
   ]
  },
  {
   "attachments": {},
   "cell_type": "markdown",
   "metadata": {},
   "source": [
    "\n",
    "### Outras Possibilidades melhoria\n",
    "\n",
    "Mudança no nivel arquitetural, nos esquemas de programação e compilação \n",
    "\n",
    "Transação nos Barramentos \n",
    "\n",
    "Processamento Paralelo - baixa tensão\n",
    "\n",
    "Multiprocessadores  - Heterogeneos\n",
    "\n",
    "#### Observações\n",
    "\n",
    "Dependendencias de Dados ou de Controle(_branches_, condições) podem gerar gargalos durante a operações paralelas\n",
    "\n",
    "- Especulação de Controle: especula a instrução de load, que posteriormente realiza a checagem.\n",
    "\n",
    "- Especulação de Dados: Especula a dados, verificando eventuais stores dentro dos dados. Caso ja tenha sido sobrescrito, é feito o flush de dados deste registrador.\n",
    "\n",
    "\n",
    "Itanium - A complexidade fica a cargo do compilador"
   ]
  },
  {
   "attachments": {},
   "cell_type": "markdown",
   "metadata": {},
   "source": [
    "## Para Pesquisar\n",
    "* Metodo arquitetural estabelecido e fator de melhora\n",
    "    * Pipeline e SuperPipeline\n",
    "    * Superescalar\n",
    "    * RISC x CISC: comparar hardware   \n",
    "        - Aplicações especificas sao eficientes para CISC, enquanto RISC tem maior consumo de energia e desempenho por sua generalidade.\n",
    "    * Extensões da ISA\n",
    "\n",
    "* Multithreading (*super, hyper)\n",
    "* Processamento Vetorial \n",
    "* Computação Paralela Distribuida\n",
    "* Especulação e Previsão de Valor(P)\n",
    "* Cray (?)\n",
    "* ⚠️ Verificar diferença entre Hyperthreading e Multithreading\n",
    "* \n"
   ]
  },
  {
   "attachments": {},
   "cell_type": "markdown",
   "metadata": {},
   "source": [
    "# PAra Casa\n",
    "ecx 5 reg.\n",
    "\n",
    "copia condicional. \n",
    "\n",
    "flags- registradores especificos para controle// indicador de instruções que retornam este resultado.\n",
    "\n",
    "cmovz eax, ebx (copia se a flag de cmp ecx, 5 for sinal logico alto).\n",
    "Implementar em assembly: comparativo entre jumpers (j e jneg). \n",
    "\n",
    "VLIW  - Itanium Intel 64 (128 bits)\n",
    "\n",
    "* Software Pipeline: Mesmo conceito do Hardware, pesquisar\n",
    "\n"
   ]
  },
  {
   "attachments": {},
   "cell_type": "markdown",
   "metadata": {},
   "source": []
  }
 ],
 "metadata": {
  "language_info": {
   "name": "python"
  },
  "orig_nbformat": 4
 },
 "nbformat": 4,
 "nbformat_minor": 2
}
