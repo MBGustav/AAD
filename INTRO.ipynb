{
 "cells": [
  {
   "attachments": {},
   "cell_type": "markdown",
   "metadata": {},
   "source": [
    "#  Material Teórico de Arquitetura de Alto Desempenho"
   ]
  },
  {
   "attachments": {},
   "cell_type": "markdown",
   "metadata": {},
   "source": [
    "Neste repositorio, trataremos sobre o asssunto com foco em GPU, FPGA's e SOC's, que será dividido em:\n"
   ]
  },
  {
   "attachments": {},
   "cell_type": "markdown",
   "metadata": {},
   "source": [
    "# [Modulo 01: Introdução](M1/M1.ipynb)\n"
   ]
  },
  {
   "attachments": {},
   "cell_type": "markdown",
   "metadata": {},
   "source": [
    "### Referencia Bibliograficas\n",
    "- STALLINGS\n",
    "- HENNECY PATERSON - Arquiteturas Avançadas\n",
    "- TANNEMBAU"
   ]
  }
 ],
 "metadata": {
  "language_info": {
   "name": "python"
  },
  "orig_nbformat": 4
 },
 "nbformat": 4,
 "nbformat_minor": 2
}
